{
 "cells": [
  {
   "cell_type": "code",
   "execution_count": 1,
   "metadata": {},
   "outputs": [],
   "source": [
    "from gp_constraint_min import BayeOptConstraint\n",
    "from objective_function import objective_function, objective_function_products,print_result\n",
    "from skopt import gp_minimize\n",
    "from skopt.learning import GaussianProcessRegressor\n",
    "from skopt.learning.gaussian_process.kernels import ConstantKernel, Matern,RBF\n",
    "\n",
    "\n",
    "import numpy as np\n",
    "import random\n",
    "from BO_min import BayeOpt\n",
    "from objective_function import objective_function_penalty\n",
    "\n",
    "def obj(x):\n",
    "    res = objective_function_penalty(x,penalty = 10000000, target_service_level = 0.8, days = 300, plotdata = False)\n",
    "    return res\n",
    "\n",
    "\n",
    "def f_product(x):\n",
    "    res = objective_function_products(x, days = 300, plotdata = False, return_SL = False)\n",
    "    return res#logit(res)\n",
    "def f_cost(x):\n",
    "    res = objective_function(x, days = 300, plotdata = False, return_SL = False)\n",
    "    return res\n",
    "def initial_points(bounds, nums):\n",
    "    random.seed(0)\n",
    "    X_init = np.random.uniform(bounds[:, 0], bounds[:, 1], size=(nums, bounds.shape[0]))\n",
    "    return X_init\n",
    "bounds = np.array([[100,400] for _ in range(12)])\n",
    "X_init = initial_points(bounds, 20)"
   ]
  },
  {
   "cell_type": "code",
   "execution_count": 31,
   "metadata": {},
   "outputs": [],
   "source": [
    "from objective_function import get_sim_result"
   ]
  },
  {
   "cell_type": "markdown",
   "metadata": {},
   "source": [
    "In this notebook, I compared two strategies\n",
    "\n",
    "### New EI function"
   ]
  },
  {
   "cell_type": "code",
   "execution_count": 4,
   "metadata": {},
   "outputs": [],
   "source": [
    "m52_1 = ConstantKernel(1) * RBF(np.array([100]*12))\n",
    "gpr1 = GaussianProcessRegressor(kernel=m52_1, alpha=10, noise = \"gaussian\")\n",
    "\n",
    "m52_2 = ConstantKernel(1) *  RBF(np.array([100]*12))\n",
    "gpr2  = GaussianProcessRegressor(kernel=m52_2, alpha=10, noise = \"gaussian\")\n"
   ]
  },
  {
   "cell_type": "code",
   "execution_count": 16,
   "metadata": {},
   "outputs": [
    {
     "name": "stdout",
     "output_type": "stream",
     "text": [
      "(10, 1) [[12500545.70392506]\n",
      " [14091242.55206754]\n",
      " [13591770.63652584]\n",
      " [13420851.4355999 ]\n",
      " [12750376.00023696]\n",
      " [13464999.30029019]\n",
      " [13451743.49926995]\n",
      " [13381368.27143199]\n",
      " [13954547.07704857]\n",
      " [13635250.76445827]]\n",
      "(10, 1) [[-8380.29410068]\n",
      " [-1963.9371881 ]\n",
      " [-5204.66730081]\n",
      " [-8411.06495609]\n",
      " [   58.54940661]\n",
      " [ -974.26158632]\n",
      " [-8663.57656628]\n",
      " [-6844.81218038]\n",
      " [-8492.14627474]\n",
      " [-8444.83926506]]\n",
      "(10, 1) [[8.61652523e+10]\n",
      " [1.71654685e+10]\n",
      " [6.79296261e+10]\n",
      " [1.04439923e+11]\n",
      " [1.27331782e+07]\n",
      " [5.13906318e+09]\n",
      " [8.49312174e+10]\n",
      " [7.28491690e+10]\n",
      " [8.02540626e+10]\n",
      " [1.23372078e+11]]\n",
      "(10, 1) [[12808251.06173686]\n",
      " [13611904.74482807]\n",
      " [12533698.72776785]\n",
      " [13631199.77812617]\n",
      " [12587277.2875379 ]\n",
      " [13449255.42630913]\n",
      " [13689318.42751892]\n",
      " [12767390.84270187]\n",
      " [13736428.8112359 ]\n",
      " [13449401.15700639]]\n",
      "(10, 1) [[-6463.13030285]\n",
      " [-8573.96301285]\n",
      " [-8578.12295476]\n",
      " [   60.6       ]\n",
      " [-8558.79988465]\n",
      " [-8411.21560849]\n",
      " [-8342.37560389]\n",
      " [-3973.63550877]\n",
      " [  -87.26508832]\n",
      " [-8358.48024439]]\n",
      "(10, 1) [[1.02583857e+11]\n",
      " [8.66294357e+10]\n",
      " [8.58904130e+10]\n",
      " [3.68089922e+09]\n",
      " [1.12721219e+11]\n",
      " [1.05407850e+11]\n",
      " [8.53548242e+10]\n",
      " [7.27739868e+10]\n",
      " [5.77930292e+08]\n",
      " [8.31931666e+10]]\n",
      "(10, 1) [[12861306.5165973 ]\n",
      " [12138984.76473634]\n",
      " [13326278.41171902]\n",
      " [14545255.44675129]\n",
      " [12507845.91620451]\n",
      " [13510814.72895205]\n",
      " [13792219.74244183]\n",
      " [13399244.74367922]\n",
      " [12658855.20544201]\n",
      " [13472841.59561934]]\n",
      "(10, 1) [[-7627.65503567]\n",
      " [ -186.80462684]\n",
      " [-8458.43245304]\n",
      " [-5542.17708637]\n",
      " [   44.4       ]\n",
      " [-1885.53705238]\n",
      " [-8346.1466039 ]\n",
      " [-3672.15688569]\n",
      " [-1830.60622676]\n",
      " [   47.        ]]\n",
      "(10, 1) [[8.07083313e+10]\n",
      " [1.66492835e+09]\n",
      " [8.74182444e+10]\n",
      " [2.82821362e+10]\n",
      " [1.25271326e+07]\n",
      " [1.73294836e+10]\n",
      " [9.29772983e+10]\n",
      " [3.42516447e+10]\n",
      " [3.37114907e+10]\n",
      " [8.73735956e+08]]\n",
      "(10, 1) [[13958750.96771077]\n",
      " [13666503.39771043]\n",
      " [12675332.26889101]\n",
      " [13366808.09570717]\n",
      " [13689686.3342309 ]\n",
      " [12985840.79998584]\n",
      " [12899336.92037475]\n",
      " [13078706.4662019 ]\n",
      " [13722282.82050302]\n",
      " [13579627.36153851]]\n",
      "(10, 1) [[-1111.65784872]\n",
      " [-5751.98370727]\n",
      " [-4129.9327237 ]\n",
      " [   54.2       ]\n",
      " [-1478.16422272]\n",
      " [-8688.65482246]\n",
      " [-8854.58340552]\n",
      " [-7416.23593515]\n",
      " [-5766.25369161]\n",
      " [-8322.99637833]]\n",
      "(10, 1) [[5.24403650e+09]\n",
      " [8.48177520e+10]\n",
      " [2.77274706e+10]\n",
      " [1.33331387e+07]\n",
      " [3.81139231e+10]\n",
      " [9.20291662e+10]\n",
      " [8.93148826e+10]\n",
      " [8.61881606e+10]\n",
      " [8.67842193e+10]\n",
      " [9.34249451e+10]]\n",
      "(10, 1) [[13287582.79834713]\n",
      " [13089913.37191596]\n",
      " [13740312.73399965]\n",
      " [12762800.44783816]\n",
      " [13510736.88676314]\n",
      " [13386822.72314837]\n",
      " [13072027.29508221]\n",
      " [12324858.59403737]\n",
      " [12357744.57784811]\n",
      " [13594602.32695825]]\n",
      "(10, 1) [[-7929.46352364]\n",
      " [   48.2       ]\n",
      " [   55.8       ]\n",
      " [-3225.0434977 ]\n",
      " [  -17.72183287]\n",
      " [-8948.40819336]\n",
      " [-8703.05205111]\n",
      " [-8506.62657277]\n",
      " [-3530.70747281]\n",
      " [-8438.7153916 ]]\n",
      "(10, 1) [[8.61717323e+10]\n",
      " [1.30952829e+07]\n",
      " [1.37485416e+07]\n",
      " [3.76709418e+10]\n",
      " [1.28648313e+07]\n",
      " [9.04293542e+10]\n",
      " [9.26649080e+10]\n",
      " [8.74405906e+10]\n",
      " [4.30029492e+10]\n",
      " [1.11839917e+11]]\n"
     ]
    }
   ],
   "source": [
    "min1 = []\n",
    "min1_x = []\n",
    "min2 = []\n",
    "min2_x = [] \n",
    "for i in range(5):\n",
    "    # first\n",
    "    X_init = initial_points(bounds, 10)\n",
    "    m52_1 = ConstantKernel(1) * RBF(np.array([100]*12))\n",
    "    gpr1 = GaussianProcessRegressor(kernel=m52_1, alpha=10, noise = \"gaussian\")\n",
    "\n",
    "    m52_2 = ConstantKernel(1) *  RBF(np.array([100]*12))\n",
    "    gpr2  = GaussianProcessRegressor(kernel=m52_2, alpha=10, noise = \"gaussian\")\n",
    "    \n",
    "    A = BayeOptConstraint(obj_func = f_cost,\n",
    "             constraint_func = f_product,\n",
    "             constraint_value = 0,\n",
    "             bounds = bounds, \n",
    "             gpr_obj = gpr1,\n",
    "             gpr_constraint = gpr2,\n",
    "             init_x = X_init, \n",
    "             niter = 80,\n",
    "             n_restarts = 25)\n",
    "    f_min1,f_x = A.bay_opt()\n",
    "    min1.append(f_min1)\n",
    "    min1_x.append(f_x)\n",
    "    # second\n",
    "    m52_1 = ConstantKernel(1) * RBF(np.array([100]*12))\n",
    "    gpr1 = GaussianProcessRegressor(kernel=m52_1, alpha=10, noise = \"gaussian\")\n",
    "    B = BayeOpt(obj_func = obj,\n",
    "             bounds = bounds, \n",
    "             gpr_obj = gpr1,\n",
    "             init_x = X_init, \n",
    "             niter = 80,\n",
    "             n_restarts = 25)\n",
    "    f_min2,f_x2 = B.bay_opt()\n",
    "    min2.append(f_min2)\n",
    "    min2_x.append(f_x2)\n",
    "    \n",
    "\n",
    "    "
   ]
  },
  {
   "cell_type": "code",
   "execution_count": 27,
   "metadata": {},
   "outputs": [
    {
     "data": {
      "text/plain": [
       "[array([12750376.00023696]),\n",
       " array([12070304.713602]),\n",
       " array([12507845.91620451]),\n",
       " array([12938096.00639022]),\n",
       " array([12894271.11586309])]"
      ]
     },
     "execution_count": 27,
     "metadata": {},
     "output_type": "execute_result"
    }
   ],
   "source": [
    "min1"
   ]
  },
  {
   "cell_type": "code",
   "execution_count": 28,
   "metadata": {},
   "outputs": [
    {
     "data": {
      "text/plain": [
       "[12556195.27181442,\n",
       " 12735707.63953354,\n",
       " 12527132.605293691,\n",
       " 13145282.956668839,\n",
       " 12267280.353714282]"
      ]
     },
     "execution_count": 28,
     "metadata": {},
     "output_type": "execute_result"
    }
   ],
   "source": [
    "min2"
   ]
  },
  {
   "cell_type": "code",
   "execution_count": 29,
   "metadata": {},
   "outputs": [
    {
     "name": "stdout",
     "output_type": "stream",
     "text": [
      "New EI: mean 12632178.750459354 std 318562.2238440728\n"
     ]
    }
   ],
   "source": [
    "print(\"New EI: mean\", np.mean(min1), \"std\", np.std(min1))"
   ]
  },
  {
   "cell_type": "code",
   "execution_count": 30,
   "metadata": {},
   "outputs": [
    {
     "name": "stdout",
     "output_type": "stream",
     "text": [
      "Penalty: mean 12646319.765404955 std 290844.74806075386\n"
     ]
    }
   ],
   "source": [
    "print(\"Penalty: mean\",np.mean(min2), \"std\",np.std(min2))"
   ]
  },
  {
   "cell_type": "code",
   "execution_count": 32,
   "metadata": {},
   "outputs": [],
   "source": [
    "def compute_servicelevel(x):\n",
    "    WarehouseA = get_sim_result(x, days = 300, plotdata = False)\n",
    "    \n",
    "    minSL = 1\n",
    "    for i in range(1,7):\n",
    "        servicelevel = 1 - WarehouseA.totalLateSales[\"Product\" + str(i)]/ WarehouseA.totalDemand[\"Product\" + str(i)]\n",
    "        minSL = min(minSL,servicelevel )\n",
    "            \n",
    "    return minSL"
   ]
  },
  {
   "cell_type": "code",
   "execution_count": 52,
   "metadata": {},
   "outputs": [],
   "source": [
    "minSL1 = [compute_servicelevel(x) for x in min1_x]"
   ]
  },
  {
   "cell_type": "code",
   "execution_count": 53,
   "metadata": {},
   "outputs": [],
   "source": [
    "minSL2 = [compute_servicelevel(x) for x in min2_x]"
   ]
  },
  {
   "cell_type": "code",
   "execution_count": 54,
   "metadata": {},
   "outputs": [
    {
     "data": {
      "text/plain": [
       "[0.8945937220385741,\n",
       " 0.866083685388236,\n",
       " 0.920359051740727,\n",
       " 0.8756778871466252,\n",
       " 0.8287178141708744]"
      ]
     },
     "execution_count": 54,
     "metadata": {},
     "output_type": "execute_result"
    }
   ],
   "source": [
    "minSL1"
   ]
  },
  {
   "cell_type": "code",
   "execution_count": 55,
   "metadata": {
    "scrolled": true
   },
   "outputs": [
    {
     "data": {
      "text/plain": [
       "[0.9003160870624451,\n",
       " 0.8610808556111279,\n",
       " 0.9060659068005706,\n",
       " 0.9801563439567047,\n",
       " 0.9301505028714064]"
      ]
     },
     "execution_count": 55,
     "metadata": {},
     "output_type": "execute_result"
    }
   ],
   "source": [
    "minSL2"
   ]
  },
  {
   "cell_type": "code",
   "execution_count": null,
   "metadata": {},
   "outputs": [],
   "source": []
  }
 ],
 "metadata": {
  "kernelspec": {
   "display_name": "Python 3",
   "language": "python",
   "name": "python3"
  },
  "language_info": {
   "codemirror_mode": {
    "name": "ipython",
    "version": 3
   },
   "file_extension": ".py",
   "mimetype": "text/x-python",
   "name": "python",
   "nbconvert_exporter": "python",
   "pygments_lexer": "ipython3",
   "version": "3.7.1"
  }
 },
 "nbformat": 4,
 "nbformat_minor": 4
}
